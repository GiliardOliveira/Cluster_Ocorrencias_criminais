{
  "nbformat": 4,
  "nbformat_minor": 0,
  "metadata": {
    "colab": {
      "name": "Cluster-Ocorrencias criminais.ipynb",
      "provenance": [],
      "collapsed_sections": [],
      "toc_visible": true,
      "authorship_tag": "ABX9TyNmSgVR15jo1gYnM8PXvq3s",
      "include_colab_link": true
    },
    "kernelspec": {
      "name": "python3",
      "display_name": "Python 3"
    }
  },
  "cells": [
    {
      "cell_type": "markdown",
      "metadata": {
        "id": "view-in-github",
        "colab_type": "text"
      },
      "source": [
        "<a href=\"https://colab.research.google.com/github/GiliardOliveira/Cluster_Ocorrencias_criminais/blob/master/Cluster_Ocorrencias_criminais.ipynb\" target=\"_parent\"><img src=\"https://colab.research.google.com/assets/colab-badge.svg\" alt=\"Open In Colab\"/></a>"
      ]
    },
    {
      "cell_type": "code",
      "metadata": {
        "id": "lw2sLbkaEgWG",
        "colab_type": "code",
        "outputId": "ea16d1bb-1aef-4da6-b639-e3659c9cace6",
        "colab": {
          "base_uri": "https://localhost:8080/",
          "height": 419
        }
      },
      "source": [
        "import pandas as pd\n",
        "dataset_OcorrenciasUF = pd.read_excel('indicadoressegurancapublicaufdez19.xlsx')\n",
        "dataset_OcorrenciasUF"
      ],
      "execution_count": 0,
      "outputs": [
        {
          "output_type": "execute_result",
          "data": {
            "text/html": [
              "<div>\n",
              "<style scoped>\n",
              "    .dataframe tbody tr th:only-of-type {\n",
              "        vertical-align: middle;\n",
              "    }\n",
              "\n",
              "    .dataframe tbody tr th {\n",
              "        vertical-align: top;\n",
              "    }\n",
              "\n",
              "    .dataframe thead th {\n",
              "        text-align: right;\n",
              "    }\n",
              "</style>\n",
              "<table border=\"1\" class=\"dataframe\">\n",
              "  <thead>\n",
              "    <tr style=\"text-align: right;\">\n",
              "      <th></th>\n",
              "      <th>UF</th>\n",
              "      <th>Tipo Crime</th>\n",
              "      <th>Ano</th>\n",
              "      <th>Mês</th>\n",
              "      <th>Ocorrências</th>\n",
              "    </tr>\n",
              "  </thead>\n",
              "  <tbody>\n",
              "    <tr>\n",
              "      <th>0</th>\n",
              "      <td>Acre</td>\n",
              "      <td>Estupro</td>\n",
              "      <td>2015</td>\n",
              "      <td>janeiro</td>\n",
              "      <td>6</td>\n",
              "    </tr>\n",
              "    <tr>\n",
              "      <th>1</th>\n",
              "      <td>Acre</td>\n",
              "      <td>Furto de veículo</td>\n",
              "      <td>2015</td>\n",
              "      <td>janeiro</td>\n",
              "      <td>0</td>\n",
              "    </tr>\n",
              "    <tr>\n",
              "      <th>2</th>\n",
              "      <td>Acre</td>\n",
              "      <td>Homicídio doloso</td>\n",
              "      <td>2015</td>\n",
              "      <td>janeiro</td>\n",
              "      <td>13</td>\n",
              "    </tr>\n",
              "    <tr>\n",
              "      <th>3</th>\n",
              "      <td>Acre</td>\n",
              "      <td>Lesão corporal seguida de morte</td>\n",
              "      <td>2015</td>\n",
              "      <td>janeiro</td>\n",
              "      <td>0</td>\n",
              "    </tr>\n",
              "    <tr>\n",
              "      <th>4</th>\n",
              "      <td>Acre</td>\n",
              "      <td>Roubo a instituição financeira</td>\n",
              "      <td>2015</td>\n",
              "      <td>janeiro</td>\n",
              "      <td>0</td>\n",
              "    </tr>\n",
              "    <tr>\n",
              "      <th>...</th>\n",
              "      <td>...</td>\n",
              "      <td>...</td>\n",
              "      <td>...</td>\n",
              "      <td>...</td>\n",
              "      <td>...</td>\n",
              "    </tr>\n",
              "    <tr>\n",
              "      <th>14481</th>\n",
              "      <td>Tocantins</td>\n",
              "      <td>Roubo a instituição financeira</td>\n",
              "      <td>2019</td>\n",
              "      <td>dezembro</td>\n",
              "      <td>0</td>\n",
              "    </tr>\n",
              "    <tr>\n",
              "      <th>14482</th>\n",
              "      <td>Tocantins</td>\n",
              "      <td>Roubo de carga</td>\n",
              "      <td>2019</td>\n",
              "      <td>dezembro</td>\n",
              "      <td>0</td>\n",
              "    </tr>\n",
              "    <tr>\n",
              "      <th>14483</th>\n",
              "      <td>Tocantins</td>\n",
              "      <td>Roubo de veículo</td>\n",
              "      <td>2019</td>\n",
              "      <td>dezembro</td>\n",
              "      <td>51</td>\n",
              "    </tr>\n",
              "    <tr>\n",
              "      <th>14484</th>\n",
              "      <td>Tocantins</td>\n",
              "      <td>Roubo seguido de morte (latrocínio)</td>\n",
              "      <td>2019</td>\n",
              "      <td>dezembro</td>\n",
              "      <td>0</td>\n",
              "    </tr>\n",
              "    <tr>\n",
              "      <th>14485</th>\n",
              "      <td>Tocantins</td>\n",
              "      <td>Tentativa de homicídio</td>\n",
              "      <td>2019</td>\n",
              "      <td>dezembro</td>\n",
              "      <td>43</td>\n",
              "    </tr>\n",
              "  </tbody>\n",
              "</table>\n",
              "<p>14486 rows × 5 columns</p>\n",
              "</div>"
            ],
            "text/plain": [
              "              UF                           Tipo Crime  ...       Mês Ocorrências\n",
              "0           Acre                              Estupro  ...   janeiro           6\n",
              "1           Acre                     Furto de veículo  ...   janeiro           0\n",
              "2           Acre                     Homicídio doloso  ...   janeiro          13\n",
              "3           Acre      Lesão corporal seguida de morte  ...   janeiro           0\n",
              "4           Acre       Roubo a instituição financeira  ...   janeiro           0\n",
              "...          ...                                  ...  ...       ...         ...\n",
              "14481  Tocantins       Roubo a instituição financeira  ...  dezembro           0\n",
              "14482  Tocantins                       Roubo de carga  ...  dezembro           0\n",
              "14483  Tocantins                     Roubo de veículo  ...  dezembro          51\n",
              "14484  Tocantins  Roubo seguido de morte (latrocínio)  ...  dezembro           0\n",
              "14485  Tocantins               Tentativa de homicídio  ...  dezembro          43\n",
              "\n",
              "[14486 rows x 5 columns]"
            ]
          },
          "metadata": {
            "tags": []
          },
          "execution_count": 37
        }
      ]
    },
    {
      "cell_type": "code",
      "metadata": {
        "id": "Q34eK8tzP5yN",
        "colab_type": "code",
        "outputId": "34a85bd7-66d9-465d-9b5d-fc36bd1fcd2e",
        "colab": {
          "base_uri": "https://localhost:8080/",
          "height": 187
        }
      },
      "source": [
        "dataset_OcorrenciasUF['Tipo Crime'].value_counts()"
      ],
      "execution_count": 0,
      "outputs": [
        {
          "output_type": "execute_result",
          "data": {
            "text/plain": [
              "Roubo seguido de morte (latrocínio)    1620\n",
              "Homicídio doloso                       1618\n",
              "Estupro                                1618\n",
              "Tentativa de homicídio                 1617\n",
              "Roubo de veículo                       1617\n",
              "Furto de veículo                       1616\n",
              "Roubo a instituição financeira         1613\n",
              "Lesão corporal seguida de morte        1597\n",
              "Roubo de carga                         1570\n",
              "Name: Tipo Crime, dtype: int64"
            ]
          },
          "metadata": {
            "tags": []
          },
          "execution_count": 45
        }
      ]
    }
  ]
}