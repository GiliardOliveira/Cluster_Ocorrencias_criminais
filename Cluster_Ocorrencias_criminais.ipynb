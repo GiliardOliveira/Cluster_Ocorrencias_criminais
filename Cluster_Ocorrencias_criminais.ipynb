{
  "nbformat": 4,
  "nbformat_minor": 0,
  "metadata": {
    "colab": {
      "name": "Cluster-Ocorrencias criminais.ipynb",
      "provenance": [],
      "collapsed_sections": [],
      "toc_visible": true,
      "include_colab_link": true
    },
    "kernelspec": {
      "name": "python3",
      "display_name": "Python 3"
    }
  },
  "cells": [
    {
      "cell_type": "markdown",
      "metadata": {
        "id": "view-in-github",
        "colab_type": "text"
      },
      "source": [
        "<a href=\"https://colab.research.google.com/github/GiliardOliveira/Cluster_Ocorrencias_criminais/blob/master/Cluster_Ocorrencias_criminais.ipynb\" target=\"_parent\"><img src=\"https://colab.research.google.com/assets/colab-badge.svg\" alt=\"Open In Colab\"/></a>"
      ]
    },
    {
      "cell_type": "code",
      "metadata": {
        "id": "YlCXRBP3RFJN",
        "colab_type": "code",
        "colab": {
          "base_uri": "https://localhost:8080/",
          "height": 88
        },
        "outputId": "9c08d5c9-9935-4614-bc31-07c82b23cfde"
      },
      "source": [
        "pip install openpyxl"
      ],
      "execution_count": 67,
      "outputs": [
        {
          "output_type": "stream",
          "text": [
            "Requirement already satisfied: openpyxl in /usr/local/lib/python3.6/dist-packages (2.5.9)\n",
            "Requirement already satisfied: jdcal in /usr/local/lib/python3.6/dist-packages (from openpyxl) (1.4.1)\n",
            "Requirement already satisfied: et-xmlfile in /usr/local/lib/python3.6/dist-packages (from openpyxl) (1.0.1)\n"
          ],
          "name": "stdout"
        }
      ]
    },
    {
      "cell_type": "code",
      "metadata": {
        "id": "GgkIG_npp81c",
        "colab_type": "code",
        "colab": {}
      },
      "source": [
        "# imports \n",
        "import pandas as pd \n",
        "from sklearn import preprocessing\n",
        "from scipy.spatial import distance_matrix\n",
        "import seaborn as sns\n",
        "from sklearn.cluster import KMeans\n",
        "from sklearn.cluster import DBSCAN\n",
        "import scipy.cluster.hierarchy as shc\n",
        "import matplotlib.pyplot as plt\n",
        "from sklearn.cluster import AgglomerativeClustering\n",
        "import plotly.graph_objects as go"
      ],
      "execution_count": 0,
      "outputs": []
    },
    {
      "cell_type": "code",
      "metadata": {
        "id": "lw2sLbkaEgWG",
        "colab_type": "code",
        "outputId": "c39299c8-4d09-450f-f156-17e30e446ef8",
        "colab": {
          "base_uri": "https://localhost:8080/",
          "height": 419
        }
      },
      "source": [
        "dataset_OcorrenciasUF = pd.read_excel('indicadoressegurancapublicaufdez19.xlsx')\n",
        "dataset_OcorrenciasUF"
      ],
      "execution_count": 69,
      "outputs": [
        {
          "output_type": "execute_result",
          "data": {
            "text/html": [
              "<div>\n",
              "<style scoped>\n",
              "    .dataframe tbody tr th:only-of-type {\n",
              "        vertical-align: middle;\n",
              "    }\n",
              "\n",
              "    .dataframe tbody tr th {\n",
              "        vertical-align: top;\n",
              "    }\n",
              "\n",
              "    .dataframe thead th {\n",
              "        text-align: right;\n",
              "    }\n",
              "</style>\n",
              "<table border=\"1\" class=\"dataframe\">\n",
              "  <thead>\n",
              "    <tr style=\"text-align: right;\">\n",
              "      <th></th>\n",
              "      <th>UF</th>\n",
              "      <th>Tipo Crime</th>\n",
              "      <th>Ano</th>\n",
              "      <th>Mês</th>\n",
              "      <th>Ocorrências</th>\n",
              "    </tr>\n",
              "  </thead>\n",
              "  <tbody>\n",
              "    <tr>\n",
              "      <th>0</th>\n",
              "      <td>Acre</td>\n",
              "      <td>Estupro</td>\n",
              "      <td>2015</td>\n",
              "      <td>janeiro</td>\n",
              "      <td>6</td>\n",
              "    </tr>\n",
              "    <tr>\n",
              "      <th>1</th>\n",
              "      <td>Acre</td>\n",
              "      <td>Furto de veículo</td>\n",
              "      <td>2015</td>\n",
              "      <td>janeiro</td>\n",
              "      <td>0</td>\n",
              "    </tr>\n",
              "    <tr>\n",
              "      <th>2</th>\n",
              "      <td>Acre</td>\n",
              "      <td>Homicídio doloso</td>\n",
              "      <td>2015</td>\n",
              "      <td>janeiro</td>\n",
              "      <td>13</td>\n",
              "    </tr>\n",
              "    <tr>\n",
              "      <th>3</th>\n",
              "      <td>Acre</td>\n",
              "      <td>Lesão corporal seguida de morte</td>\n",
              "      <td>2015</td>\n",
              "      <td>janeiro</td>\n",
              "      <td>0</td>\n",
              "    </tr>\n",
              "    <tr>\n",
              "      <th>4</th>\n",
              "      <td>Acre</td>\n",
              "      <td>Roubo a instituição financeira</td>\n",
              "      <td>2015</td>\n",
              "      <td>janeiro</td>\n",
              "      <td>0</td>\n",
              "    </tr>\n",
              "    <tr>\n",
              "      <th>...</th>\n",
              "      <td>...</td>\n",
              "      <td>...</td>\n",
              "      <td>...</td>\n",
              "      <td>...</td>\n",
              "      <td>...</td>\n",
              "    </tr>\n",
              "    <tr>\n",
              "      <th>14481</th>\n",
              "      <td>Tocantins</td>\n",
              "      <td>Roubo a instituição financeira</td>\n",
              "      <td>2019</td>\n",
              "      <td>dezembro</td>\n",
              "      <td>0</td>\n",
              "    </tr>\n",
              "    <tr>\n",
              "      <th>14482</th>\n",
              "      <td>Tocantins</td>\n",
              "      <td>Roubo de carga</td>\n",
              "      <td>2019</td>\n",
              "      <td>dezembro</td>\n",
              "      <td>0</td>\n",
              "    </tr>\n",
              "    <tr>\n",
              "      <th>14483</th>\n",
              "      <td>Tocantins</td>\n",
              "      <td>Roubo de veículo</td>\n",
              "      <td>2019</td>\n",
              "      <td>dezembro</td>\n",
              "      <td>51</td>\n",
              "    </tr>\n",
              "    <tr>\n",
              "      <th>14484</th>\n",
              "      <td>Tocantins</td>\n",
              "      <td>Roubo seguido de morte (latrocínio)</td>\n",
              "      <td>2019</td>\n",
              "      <td>dezembro</td>\n",
              "      <td>0</td>\n",
              "    </tr>\n",
              "    <tr>\n",
              "      <th>14485</th>\n",
              "      <td>Tocantins</td>\n",
              "      <td>Tentativa de homicídio</td>\n",
              "      <td>2019</td>\n",
              "      <td>dezembro</td>\n",
              "      <td>43</td>\n",
              "    </tr>\n",
              "  </tbody>\n",
              "</table>\n",
              "<p>14486 rows × 5 columns</p>\n",
              "</div>"
            ],
            "text/plain": [
              "              UF                           Tipo Crime  ...       Mês Ocorrências\n",
              "0           Acre                              Estupro  ...   janeiro           6\n",
              "1           Acre                     Furto de veículo  ...   janeiro           0\n",
              "2           Acre                     Homicídio doloso  ...   janeiro          13\n",
              "3           Acre      Lesão corporal seguida de morte  ...   janeiro           0\n",
              "4           Acre       Roubo a instituição financeira  ...   janeiro           0\n",
              "...          ...                                  ...  ...       ...         ...\n",
              "14481  Tocantins       Roubo a instituição financeira  ...  dezembro           0\n",
              "14482  Tocantins                       Roubo de carga  ...  dezembro           0\n",
              "14483  Tocantins                     Roubo de veículo  ...  dezembro          51\n",
              "14484  Tocantins  Roubo seguido de morte (latrocínio)  ...  dezembro           0\n",
              "14485  Tocantins               Tentativa de homicídio  ...  dezembro          43\n",
              "\n",
              "[14486 rows x 5 columns]"
            ]
          },
          "metadata": {
            "tags": []
          },
          "execution_count": 69
        }
      ]
    },
    {
      "cell_type": "markdown",
      "metadata": {
        "id": "OKF3yi_eGWdZ",
        "colab_type": "text"
      },
      "source": [
        "Após a importacao, separei a base por ano e exportei para excel"
      ]
    },
    {
      "cell_type": "code",
      "metadata": {
        "id": "OG59NKwKkueo",
        "colab_type": "code",
        "colab": {}
      },
      "source": [
        "data2015 = dataset_OcorrenciasUF.query('Ano == 2015')\n",
        "data2015.to_excel('Ocorrencias2015.xlsx')"
      ],
      "execution_count": 0,
      "outputs": []
    },
    {
      "cell_type": "code",
      "metadata": {
        "id": "p-Y7JYdVluJ2",
        "colab_type": "code",
        "colab": {}
      },
      "source": [
        "data2016 = dataset_OcorrenciasUF.query('Ano == 2016')\n",
        "data2016.to_excel('Ocorrencias2016.xlsx')"
      ],
      "execution_count": 0,
      "outputs": []
    },
    {
      "cell_type": "code",
      "metadata": {
        "id": "uXuq30r0mRvd",
        "colab_type": "code",
        "colab": {}
      },
      "source": [
        "data2017 = dataset_OcorrenciasUF.query('Ano == 2017')\n",
        "data2017.to_excel('Ocorrencias2017.xlsx')"
      ],
      "execution_count": 0,
      "outputs": []
    },
    {
      "cell_type": "code",
      "metadata": {
        "id": "RRi40M0QmV85",
        "colab_type": "code",
        "colab": {}
      },
      "source": [
        "data2018 = dataset_OcorrenciasUF.query('Ano == 2018')\n",
        "data2018.to_excel('Ocorrencias2018.xlsx')"
      ],
      "execution_count": 0,
      "outputs": []
    },
    {
      "cell_type": "code",
      "metadata": {
        "id": "QHVPkUgCmZu4",
        "colab_type": "code",
        "colab": {}
      },
      "source": [
        "data2019 = dataset_OcorrenciasUF.query('Ano == 2019')\n",
        "data2019.to_excel('Ocorrencias2019.xlsx')"
      ],
      "execution_count": 0,
      "outputs": []
    },
    {
      "cell_type": "markdown",
      "metadata": {
        "id": "MiayImgZVMWp",
        "colab_type": "text"
      },
      "source": [
        "Apos fazer o upload das bases apenas sera nescessario trocar o ano da base de dados .xlsx abaixo"
      ]
    },
    {
      "cell_type": "code",
      "metadata": {
        "id": "shLKU3wwRf0x",
        "colab_type": "code",
        "colab": {
          "base_uri": "https://localhost:8080/",
          "height": 204
        },
        "outputId": "c006ad6d-1106-4bb6-cb9a-04f8220b154f"
      },
      "source": [
        "dataset_ano = pd.read_excel(\"Ocorrencias2017.xlsx\")\n",
        "dataset_ano.head()"
      ],
      "execution_count": 75,
      "outputs": [
        {
          "output_type": "execute_result",
          "data": {
            "text/html": [
              "<div>\n",
              "<style scoped>\n",
              "    .dataframe tbody tr th:only-of-type {\n",
              "        vertical-align: middle;\n",
              "    }\n",
              "\n",
              "    .dataframe tbody tr th {\n",
              "        vertical-align: top;\n",
              "    }\n",
              "\n",
              "    .dataframe thead th {\n",
              "        text-align: right;\n",
              "    }\n",
              "</style>\n",
              "<table border=\"1\" class=\"dataframe\">\n",
              "  <thead>\n",
              "    <tr style=\"text-align: right;\">\n",
              "      <th></th>\n",
              "      <th>Unnamed: 0</th>\n",
              "      <th>UF</th>\n",
              "      <th>Tipo Crime</th>\n",
              "      <th>Ano</th>\n",
              "      <th>Mês</th>\n",
              "      <th>Ocorrências</th>\n",
              "    </tr>\n",
              "  </thead>\n",
              "  <tbody>\n",
              "    <tr>\n",
              "      <th>0</th>\n",
              "      <td>216</td>\n",
              "      <td>Acre</td>\n",
              "      <td>Estupro</td>\n",
              "      <td>2017</td>\n",
              "      <td>janeiro</td>\n",
              "      <td>0</td>\n",
              "    </tr>\n",
              "    <tr>\n",
              "      <th>1</th>\n",
              "      <td>217</td>\n",
              "      <td>Acre</td>\n",
              "      <td>Furto de veículo</td>\n",
              "      <td>2017</td>\n",
              "      <td>janeiro</td>\n",
              "      <td>0</td>\n",
              "    </tr>\n",
              "    <tr>\n",
              "      <th>2</th>\n",
              "      <td>218</td>\n",
              "      <td>Acre</td>\n",
              "      <td>Homicídio doloso</td>\n",
              "      <td>2017</td>\n",
              "      <td>janeiro</td>\n",
              "      <td>43</td>\n",
              "    </tr>\n",
              "    <tr>\n",
              "      <th>3</th>\n",
              "      <td>219</td>\n",
              "      <td>Acre</td>\n",
              "      <td>Lesão corporal seguida de morte</td>\n",
              "      <td>2017</td>\n",
              "      <td>janeiro</td>\n",
              "      <td>0</td>\n",
              "    </tr>\n",
              "    <tr>\n",
              "      <th>4</th>\n",
              "      <td>220</td>\n",
              "      <td>Acre</td>\n",
              "      <td>Roubo a instituição financeira</td>\n",
              "      <td>2017</td>\n",
              "      <td>janeiro</td>\n",
              "      <td>0</td>\n",
              "    </tr>\n",
              "  </tbody>\n",
              "</table>\n",
              "</div>"
            ],
            "text/plain": [
              "   Unnamed: 0    UF  ...      Mês  Ocorrências\n",
              "0         216  Acre  ...  janeiro            0\n",
              "1         217  Acre  ...  janeiro            0\n",
              "2         218  Acre  ...  janeiro           43\n",
              "3         219  Acre  ...  janeiro            0\n",
              "4         220  Acre  ...  janeiro            0\n",
              "\n",
              "[5 rows x 6 columns]"
            ]
          },
          "metadata": {
            "tags": []
          },
          "execution_count": 75
        }
      ]
    },
    {
      "cell_type": "code",
      "metadata": {
        "id": "T3WNc1HtSbUN",
        "colab_type": "code",
        "colab": {}
      },
      "source": [
        "\n",
        "dataset_ano = dataset_ano.drop(dataset_ano.columns[dataset_ano.columns.str.contains('unnamed',case = False)],axis = 1)\n"
      ],
      "execution_count": 0,
      "outputs": []
    },
    {
      "cell_type": "code",
      "metadata": {
        "id": "m2VkwkR0S576",
        "colab_type": "code",
        "colab": {
          "base_uri": "https://localhost:8080/",
          "height": 204
        },
        "outputId": "4c295d47-0e2a-438e-e0fd-759f10e39aa2"
      },
      "source": [
        "dataset_ano.head()"
      ],
      "execution_count": 77,
      "outputs": [
        {
          "output_type": "execute_result",
          "data": {
            "text/html": [
              "<div>\n",
              "<style scoped>\n",
              "    .dataframe tbody tr th:only-of-type {\n",
              "        vertical-align: middle;\n",
              "    }\n",
              "\n",
              "    .dataframe tbody tr th {\n",
              "        vertical-align: top;\n",
              "    }\n",
              "\n",
              "    .dataframe thead th {\n",
              "        text-align: right;\n",
              "    }\n",
              "</style>\n",
              "<table border=\"1\" class=\"dataframe\">\n",
              "  <thead>\n",
              "    <tr style=\"text-align: right;\">\n",
              "      <th></th>\n",
              "      <th>UF</th>\n",
              "      <th>Tipo Crime</th>\n",
              "      <th>Ano</th>\n",
              "      <th>Mês</th>\n",
              "      <th>Ocorrências</th>\n",
              "    </tr>\n",
              "  </thead>\n",
              "  <tbody>\n",
              "    <tr>\n",
              "      <th>0</th>\n",
              "      <td>Acre</td>\n",
              "      <td>Estupro</td>\n",
              "      <td>2017</td>\n",
              "      <td>janeiro</td>\n",
              "      <td>0</td>\n",
              "    </tr>\n",
              "    <tr>\n",
              "      <th>1</th>\n",
              "      <td>Acre</td>\n",
              "      <td>Furto de veículo</td>\n",
              "      <td>2017</td>\n",
              "      <td>janeiro</td>\n",
              "      <td>0</td>\n",
              "    </tr>\n",
              "    <tr>\n",
              "      <th>2</th>\n",
              "      <td>Acre</td>\n",
              "      <td>Homicídio doloso</td>\n",
              "      <td>2017</td>\n",
              "      <td>janeiro</td>\n",
              "      <td>43</td>\n",
              "    </tr>\n",
              "    <tr>\n",
              "      <th>3</th>\n",
              "      <td>Acre</td>\n",
              "      <td>Lesão corporal seguida de morte</td>\n",
              "      <td>2017</td>\n",
              "      <td>janeiro</td>\n",
              "      <td>0</td>\n",
              "    </tr>\n",
              "    <tr>\n",
              "      <th>4</th>\n",
              "      <td>Acre</td>\n",
              "      <td>Roubo a instituição financeira</td>\n",
              "      <td>2017</td>\n",
              "      <td>janeiro</td>\n",
              "      <td>0</td>\n",
              "    </tr>\n",
              "  </tbody>\n",
              "</table>\n",
              "</div>"
            ],
            "text/plain": [
              "     UF                       Tipo Crime   Ano      Mês  Ocorrências\n",
              "0  Acre                          Estupro  2017  janeiro            0\n",
              "1  Acre                 Furto de veículo  2017  janeiro            0\n",
              "2  Acre                 Homicídio doloso  2017  janeiro           43\n",
              "3  Acre  Lesão corporal seguida de morte  2017  janeiro            0\n",
              "4  Acre   Roubo a instituição financeira  2017  janeiro            0"
            ]
          },
          "metadata": {
            "tags": []
          },
          "execution_count": 77
        }
      ]
    },
    {
      "cell_type": "markdown",
      "metadata": {
        "id": "UDEwzNyxG2iY",
        "colab_type": "text"
      },
      "source": [
        "O proximo passo é clusterizar as cidades com maiores indices de crime por crime"
      ]
    }
  ]
}