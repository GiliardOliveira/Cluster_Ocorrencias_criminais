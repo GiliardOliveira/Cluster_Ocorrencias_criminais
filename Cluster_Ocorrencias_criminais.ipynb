{
  "nbformat": 4,
  "nbformat_minor": 0,
  "metadata": {
    "colab": {
      "name": "Cluster-Ocorrencias criminais.ipynb",
      "provenance": [],
      "collapsed_sections": [],
      "toc_visible": true,
      "authorship_tag": "ABX9TyM2L05dOVas6FcwU6hidghE",
      "include_colab_link": true
    },
    "kernelspec": {
      "name": "python3",
      "display_name": "Python 3"
    }
  },
  "cells": [
    {
      "cell_type": "markdown",
      "metadata": {
        "id": "view-in-github",
        "colab_type": "text"
      },
      "source": [
        "<a href=\"https://colab.research.google.com/github/GiliardOliveira/Cluster_Ocorrencias_criminais/blob/master/Cluster_Ocorrencias_criminais.ipynb\" target=\"_parent\"><img src=\"https://colab.research.google.com/assets/colab-badge.svg\" alt=\"Open In Colab\"/></a>"
      ]
    },
    {
      "cell_type": "code",
      "metadata": {
        "id": "lw2sLbkaEgWG",
        "colab_type": "code",
        "outputId": "1ce088ff-bf6e-49fd-de2d-ba280790a719",
        "colab": {
          "base_uri": "https://localhost:8080/",
          "height": 419
        }
      },
      "source": [
        "import pandas as pd\n",
        "dataset_OcorrenciasUF = pd.read_excel('indicadoressegurancapublicaufdez19.xlsx')\n",
        "dataset_OcorrenciasUF"
      ],
      "execution_count": 1,
      "outputs": [
        {
          "output_type": "execute_result",
          "data": {
            "text/html": [
              "<div>\n",
              "<style scoped>\n",
              "    .dataframe tbody tr th:only-of-type {\n",
              "        vertical-align: middle;\n",
              "    }\n",
              "\n",
              "    .dataframe tbody tr th {\n",
              "        vertical-align: top;\n",
              "    }\n",
              "\n",
              "    .dataframe thead th {\n",
              "        text-align: right;\n",
              "    }\n",
              "</style>\n",
              "<table border=\"1\" class=\"dataframe\">\n",
              "  <thead>\n",
              "    <tr style=\"text-align: right;\">\n",
              "      <th></th>\n",
              "      <th>UF</th>\n",
              "      <th>Tipo Crime</th>\n",
              "      <th>Ano</th>\n",
              "      <th>Mês</th>\n",
              "      <th>Ocorrências</th>\n",
              "    </tr>\n",
              "  </thead>\n",
              "  <tbody>\n",
              "    <tr>\n",
              "      <th>0</th>\n",
              "      <td>Acre</td>\n",
              "      <td>Estupro</td>\n",
              "      <td>2015</td>\n",
              "      <td>janeiro</td>\n",
              "      <td>6</td>\n",
              "    </tr>\n",
              "    <tr>\n",
              "      <th>1</th>\n",
              "      <td>Acre</td>\n",
              "      <td>Furto de veículo</td>\n",
              "      <td>2015</td>\n",
              "      <td>janeiro</td>\n",
              "      <td>0</td>\n",
              "    </tr>\n",
              "    <tr>\n",
              "      <th>2</th>\n",
              "      <td>Acre</td>\n",
              "      <td>Homicídio doloso</td>\n",
              "      <td>2015</td>\n",
              "      <td>janeiro</td>\n",
              "      <td>13</td>\n",
              "    </tr>\n",
              "    <tr>\n",
              "      <th>3</th>\n",
              "      <td>Acre</td>\n",
              "      <td>Lesão corporal seguida de morte</td>\n",
              "      <td>2015</td>\n",
              "      <td>janeiro</td>\n",
              "      <td>0</td>\n",
              "    </tr>\n",
              "    <tr>\n",
              "      <th>4</th>\n",
              "      <td>Acre</td>\n",
              "      <td>Roubo a instituição financeira</td>\n",
              "      <td>2015</td>\n",
              "      <td>janeiro</td>\n",
              "      <td>0</td>\n",
              "    </tr>\n",
              "    <tr>\n",
              "      <th>...</th>\n",
              "      <td>...</td>\n",
              "      <td>...</td>\n",
              "      <td>...</td>\n",
              "      <td>...</td>\n",
              "      <td>...</td>\n",
              "    </tr>\n",
              "    <tr>\n",
              "      <th>14481</th>\n",
              "      <td>Tocantins</td>\n",
              "      <td>Roubo a instituição financeira</td>\n",
              "      <td>2019</td>\n",
              "      <td>dezembro</td>\n",
              "      <td>0</td>\n",
              "    </tr>\n",
              "    <tr>\n",
              "      <th>14482</th>\n",
              "      <td>Tocantins</td>\n",
              "      <td>Roubo de carga</td>\n",
              "      <td>2019</td>\n",
              "      <td>dezembro</td>\n",
              "      <td>0</td>\n",
              "    </tr>\n",
              "    <tr>\n",
              "      <th>14483</th>\n",
              "      <td>Tocantins</td>\n",
              "      <td>Roubo de veículo</td>\n",
              "      <td>2019</td>\n",
              "      <td>dezembro</td>\n",
              "      <td>51</td>\n",
              "    </tr>\n",
              "    <tr>\n",
              "      <th>14484</th>\n",
              "      <td>Tocantins</td>\n",
              "      <td>Roubo seguido de morte (latrocínio)</td>\n",
              "      <td>2019</td>\n",
              "      <td>dezembro</td>\n",
              "      <td>0</td>\n",
              "    </tr>\n",
              "    <tr>\n",
              "      <th>14485</th>\n",
              "      <td>Tocantins</td>\n",
              "      <td>Tentativa de homicídio</td>\n",
              "      <td>2019</td>\n",
              "      <td>dezembro</td>\n",
              "      <td>43</td>\n",
              "    </tr>\n",
              "  </tbody>\n",
              "</table>\n",
              "<p>14486 rows × 5 columns</p>\n",
              "</div>"
            ],
            "text/plain": [
              "              UF                           Tipo Crime  ...       Mês Ocorrências\n",
              "0           Acre                              Estupro  ...   janeiro           6\n",
              "1           Acre                     Furto de veículo  ...   janeiro           0\n",
              "2           Acre                     Homicídio doloso  ...   janeiro          13\n",
              "3           Acre      Lesão corporal seguida de morte  ...   janeiro           0\n",
              "4           Acre       Roubo a instituição financeira  ...   janeiro           0\n",
              "...          ...                                  ...  ...       ...         ...\n",
              "14481  Tocantins       Roubo a instituição financeira  ...  dezembro           0\n",
              "14482  Tocantins                       Roubo de carga  ...  dezembro           0\n",
              "14483  Tocantins                     Roubo de veículo  ...  dezembro          51\n",
              "14484  Tocantins  Roubo seguido de morte (latrocínio)  ...  dezembro           0\n",
              "14485  Tocantins               Tentativa de homicídio  ...  dezembro          43\n",
              "\n",
              "[14486 rows x 5 columns]"
            ]
          },
          "metadata": {
            "tags": []
          },
          "execution_count": 1
        }
      ]
    },
    {
      "cell_type": "code",
      "metadata": {
        "id": "Q34eK8tzP5yN",
        "colab_type": "code",
        "outputId": "9723214b-7c37-47d4-f782-735d56a5293d",
        "colab": {
          "base_uri": "https://localhost:8080/",
          "height": 187
        }
      },
      "source": [
        "dataset_OcorrenciasUF['Tipo Crime'].value_counts()"
      ],
      "execution_count": 2,
      "outputs": [
        {
          "output_type": "execute_result",
          "data": {
            "text/plain": [
              "Roubo seguido de morte (latrocínio)    1620\n",
              "Homicídio doloso                       1618\n",
              "Estupro                                1618\n",
              "Roubo de veículo                       1617\n",
              "Tentativa de homicídio                 1617\n",
              "Furto de veículo                       1616\n",
              "Roubo a instituição financeira         1613\n",
              "Lesão corporal seguida de morte        1597\n",
              "Roubo de carga                         1570\n",
              "Name: Tipo Crime, dtype: int64"
            ]
          },
          "metadata": {
            "tags": []
          },
          "execution_count": 2
        }
      ]
    },
    {
      "cell_type": "code",
      "metadata": {
        "id": "ZH_syavDbiYD",
        "colab_type": "code",
        "colab": {
          "base_uri": "https://localhost:8080/",
          "height": 119
        },
        "outputId": "74db6f84-688a-4eaf-9402-5316616fd685"
      },
      "source": [
        "dataset_OcorrenciasUF['Ano'].value_counts()"
      ],
      "execution_count": 3,
      "outputs": [
        {
          "output_type": "execute_result",
          "data": {
            "text/plain": [
              "2018    2910\n",
              "2017    2905\n",
              "2016    2896\n",
              "2015    2890\n",
              "2019    2885\n",
              "Name: Ano, dtype: int64"
            ]
          },
          "metadata": {
            "tags": []
          },
          "execution_count": 3
        }
      ]
    },
    {
      "cell_type": "code",
      "metadata": {
        "id": "wCLD-cs6do84",
        "colab_type": "code",
        "colab": {
          "base_uri": "https://localhost:8080/",
          "height": 119
        },
        "outputId": "c285a130-6da9-4b08-9aeb-63262e75b1ef"
      },
      "source": [
        "dataset_OcorrenciasUF.isnull().sum()"
      ],
      "execution_count": 13,
      "outputs": [
        {
          "output_type": "execute_result",
          "data": {
            "text/plain": [
              "UF             0\n",
              "Tipo Crime     0\n",
              "Ano            0\n",
              "Mês            0\n",
              "Ocorrências    0\n",
              "dtype: int64"
            ]
          },
          "metadata": {
            "tags": []
          },
          "execution_count": 13
        }
      ]
    },
    {
      "cell_type": "code",
      "metadata": {
        "id": "OG59NKwKkueo",
        "colab_type": "code",
        "colab": {
          "base_uri": "https://localhost:8080/",
          "height": 255
        },
        "outputId": "f2e6d9e5-5067-4610-ba3d-cdcd16dbd8fc"
      },
      "source": [
        "data2015 = dataset_OcorrenciasUF.query('Ano == 2015')\n",
        "data2015.to_csv(r'C:\\Users\\gilia\\Documents\\data2015.csv',index=False, header=True)\n",
        "print(data2015)"
      ],
      "execution_count": 32,
      "outputs": [
        {
          "output_type": "stream",
          "text": [
            "              UF                           Tipo Crime  ...       Mês Ocorrências\n",
            "0           Acre                              Estupro  ...   janeiro           6\n",
            "1           Acre                     Furto de veículo  ...   janeiro           0\n",
            "2           Acre                     Homicídio doloso  ...   janeiro          13\n",
            "3           Acre      Lesão corporal seguida de morte  ...   janeiro           0\n",
            "4           Acre       Roubo a instituição financeira  ...   janeiro           0\n",
            "...          ...                                  ...  ...       ...         ...\n",
            "14051  Tocantins       Roubo a instituição financeira  ...  dezembro           6\n",
            "14052  Tocantins                       Roubo de carga  ...  dezembro           1\n",
            "14053  Tocantins                     Roubo de veículo  ...  dezembro          55\n",
            "14054  Tocantins  Roubo seguido de morte (latrocínio)  ...  dezembro           2\n",
            "14055  Tocantins               Tentativa de homicídio  ...  dezembro          42\n",
            "\n",
            "[2890 rows x 5 columns]\n"
          ],
          "name": "stdout"
        }
      ]
    },
    {
      "cell_type": "code",
      "metadata": {
        "id": "p-Y7JYdVluJ2",
        "colab_type": "code",
        "colab": {}
      },
      "source": [
        "data2016 = dataset_OcorrenciasUF.query('Ano == 2016')"
      ],
      "execution_count": 0,
      "outputs": []
    },
    {
      "cell_type": "code",
      "metadata": {
        "id": "uXuq30r0mRvd",
        "colab_type": "code",
        "colab": {}
      },
      "source": [
        "data2017 = dataset_OcorrenciasUF.query('Ano == 2017')\n"
      ],
      "execution_count": 0,
      "outputs": []
    },
    {
      "cell_type": "code",
      "metadata": {
        "id": "RRi40M0QmV85",
        "colab_type": "code",
        "colab": {}
      },
      "source": [
        "data2018 = dataset_OcorrenciasUF.query('Ano == 2018')"
      ],
      "execution_count": 0,
      "outputs": []
    },
    {
      "cell_type": "code",
      "metadata": {
        "id": "QHVPkUgCmZu4",
        "colab_type": "code",
        "colab": {}
      },
      "source": [
        "data2019 = dataset_OcorrenciasUF.query('Ano == 2019')"
      ],
      "execution_count": 0,
      "outputs": []
    }
  ]
}